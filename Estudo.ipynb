{
 "cells": [
  {
   "cell_type": "markdown",
   "metadata": {},
   "source": [
    "-------\n",
    "TCC\n",
    "-------\n",
    "--------\n",
    "\n",
    "Importando CSV com 5000 entradas."
   ]
  },
  {
   "cell_type": "code",
   "execution_count": 356,
   "metadata": {},
   "outputs": [],
   "source": [
    "import pandas as pd\n",
    "import matplotlib as plt\n",
    "import numpy as np\n",
    "import seaborn as sns\n",
    "\n",
    "data = pd.read_csv('data/train_5000.csv', sep=',')\n",
    "#print(data)"
   ]
  },
  {
   "cell_type": "code",
   "execution_count": 355,
   "metadata": {},
   "outputs": [
    {
     "data": {
      "text/plain": [
       "id                      0\n",
       "gender                  0\n",
       "age                     0\n",
       "hypertension            0\n",
       "heart_disease           0\n",
       "ever_married            0\n",
       "work_type               0\n",
       "Residence_type          0\n",
       "avg_glucose_level       0\n",
       "bmi                   178\n",
       "smoking_status       1525\n",
       "stroke                  0\n",
       "dtype: int64"
      ]
     },
     "execution_count": 355,
     "metadata": {},
     "output_type": "execute_result"
    }
   ],
   "source": [
    "data.isna().sum()"
   ]
  },
  {
   "cell_type": "markdown",
   "metadata": {},
   "source": [
    "No DataFrame data, temos apenas 2 colunas com dados NaN, BMI e Smoking_Status.\n",
    "\n",
    "Funções\n",
    "----------\n",
    "\n",
    "Mais abaixo está especificada a forma com que foram divididos dados qualitativos com o objetivo de torná-los numéricos."
   ]
  },
  {
   "cell_type": "markdown",
   "metadata": {},
   "source": [
    "Genre - Gênero\n",
    "--------------\n",
    "\n",
    "* Male -> 0\n",
    "* Female ->1\n",
    "* Other -> 2"
   ]
  },
  {
   "cell_type": "code",
   "execution_count": 372,
   "metadata": {},
   "outputs": [
    {
     "data": {
      "text/html": [
       "<div>\n",
       "<style scoped>\n",
       "    .dataframe tbody tr th:only-of-type {\n",
       "        vertical-align: middle;\n",
       "    }\n",
       "\n",
       "    .dataframe tbody tr th {\n",
       "        vertical-align: top;\n",
       "    }\n",
       "\n",
       "    .dataframe thead th {\n",
       "        text-align: right;\n",
       "    }\n",
       "</style>\n",
       "<table border=\"1\" class=\"dataframe\">\n",
       "  <thead>\n",
       "    <tr style=\"text-align: right;\">\n",
       "      <th></th>\n",
       "      <th>genero</th>\n",
       "    </tr>\n",
       "  </thead>\n",
       "  <tbody>\n",
       "    <tr>\n",
       "      <th>1</th>\n",
       "      <td>2939</td>\n",
       "    </tr>\n",
       "    <tr>\n",
       "      <th>0</th>\n",
       "      <td>2059</td>\n",
       "    </tr>\n",
       "    <tr>\n",
       "      <th>2</th>\n",
       "      <td>1</td>\n",
       "    </tr>\n",
       "  </tbody>\n",
       "</table>\n",
       "</div>"
      ],
      "text/plain": [
       "   genero\n",
       "1    2939\n",
       "0    2059\n",
       "2       1"
      ]
     },
     "execution_count": 372,
     "metadata": {},
     "output_type": "execute_result"
    },
    {
     "data": {
      "image/png": "[encoded data removed]",
      "text/plain": [
       "<Figure size 432x288 with 1 Axes>"
      ]
     },
     "metadata": {},
     "output_type": "display_data"
    }
   ],
   "source": [
    "def genero(x):\n",
    "    if x == 'Male':\n",
    "        return 0\n",
    "    elif x == 'Female':\n",
    "        return 1\n",
    "    return 2\n",
    "\n",
    "#data['gender'].value_counts().to_frame()\n",
    "\n",
    "data['genero'] = data['gender'].apply(genero)\n",
    "data['genero'].value_counts().plot.pie(autopct='%1.1f%%',shadow=False,startangle=90)\n",
    "data['genero'].value_counts().to_frame()"
   ]
  },
  {
   "cell_type": "markdown",
   "metadata": {},
   "source": [
    "*Ever_Married - Se já foi casado\n",
    "----\n",
    "\n",
    "* Yes -> 1\n",
    "* No -> 0"
   ]
  },
  {
   "cell_type": "code",
   "execution_count": 373,
   "metadata": {},
   "outputs": [
    {
     "data": {
      "text/html": [
       "<div>\n",
       "<style scoped>\n",
       "    .dataframe tbody tr th:only-of-type {\n",
       "        vertical-align: middle;\n",
       "    }\n",
       "\n",
       "    .dataframe tbody tr th {\n",
       "        vertical-align: top;\n",
       "    }\n",
       "\n",
       "    .dataframe thead th {\n",
       "        text-align: right;\n",
       "    }\n",
       "</style>\n",
       "<table border=\"1\" class=\"dataframe\">\n",
       "  <thead>\n",
       "    <tr style=\"text-align: right;\">\n",
       "      <th></th>\n",
       "      <th>casamento</th>\n",
       "    </tr>\n",
       "  </thead>\n",
       "  <tbody>\n",
       "    <tr>\n",
       "      <th>1</th>\n",
       "      <td>3245</td>\n",
       "    </tr>\n",
       "    <tr>\n",
       "      <th>0</th>\n",
       "      <td>1754</td>\n",
       "    </tr>\n",
       "  </tbody>\n",
       "</table>\n",
       "</div>"
      ],
      "text/plain": [
       "   casamento\n",
       "1       3245\n",
       "0       1754"
      ]
     },
     "execution_count": 373,
     "metadata": {},
     "output_type": "execute_result"
    },
    {
     "data": {
      "image/png": "[encoded data removed]",
      "text/plain": [
       "<Figure size 432x288 with 1 Axes>"
      ]
     },
     "metadata": {},
     "output_type": "display_data"
    }
   ],
   "source": [
    "def casado(x):\n",
    "    if x == 'Yes':\n",
    "        return 1\n",
    "    return 0\n",
    "#data['ever_married'].value_counts().to_frame()\n",
    "\n",
    "data['casamento'] = data['ever_married'].apply(casado)\n",
    "data['casamento'].value_counts().plot.pie(autopct='%1.1f%%',shadow=False,startangle=90)\n",
    "data['casamento'].value_counts().to_frame()"
   ]
  },
  {
   "cell_type": "markdown",
   "metadata": {},
   "source": [
    "*Work_Type - Tipo de Trabalho\n",
    "---\n",
    "\n",
    "Criado um DataFrame chamado \"work\" a partir do get_dummies de \"data\", criado uma coluna com os 'stroke' de \"data\" e uma nova coluna nomeada 'wt_vitimas' inicialmente totalmente NaN. \n",
    "\n",
    "Para completar a coluna 'wt_vitimas' é realizado uma comparação entre cada coluna de \"work\" que indica que tipo de trabalho a pessoa se enquanta) e a coluna de \"work\" que indica se essa pessoa sofreu ou não um AVC, caso sejam ambos '1' indica que a pessoa de determinado tipo de trabalho sofreu um AVC, sendo categorizado em:\n",
    "\n",
    "* 1 - Govt_job\n",
    "* 2 - Never_ worked\n",
    "* 3 - Private\n",
    "* 4 - Self-employed\n",
    "* 5 - children\n",
    "\n",
    "Pelo value_counts() realizado na coluna 'wt_vitimas' temos que nem 'children' nem 'Never_worked' sofreram um AVC, permitindo que ao categorizarmos o 'work_type' em \"data\" possamos juntar esses dois tipos de trabalho.\n",
    "\n",
    "\n",
    "* private -> 1\n",
    "* self-employed -> 2\n",
    "* govt_jov -> 3\n",
    "* children + never_worked-> 0"
   ]
  },
  {
   "cell_type": "code",
   "execution_count": 457,
   "metadata": {},
   "outputs": [
    {
     "data": {
      "text/html": [
       "<div>\n",
       "<style scoped>\n",
       "    .dataframe tbody tr th:only-of-type {\n",
       "        vertical-align: middle;\n",
       "    }\n",
       "\n",
       "    .dataframe tbody tr th {\n",
       "        vertical-align: top;\n",
       "    }\n",
       "\n",
       "    .dataframe thead th {\n",
       "        text-align: right;\n",
       "    }\n",
       "</style>\n",
       "<table border=\"1\" class=\"dataframe\">\n",
       "  <thead>\n",
       "    <tr style=\"text-align: right;\">\n",
       "      <th></th>\n",
       "      <th>trabalho</th>\n",
       "    </tr>\n",
       "  </thead>\n",
       "  <tbody>\n",
       "    <tr>\n",
       "      <th>1</th>\n",
       "      <td>2862</td>\n",
       "    </tr>\n",
       "    <tr>\n",
       "      <th>2</th>\n",
       "      <td>778</td>\n",
       "    </tr>\n",
       "    <tr>\n",
       "      <th>0</th>\n",
       "      <td>715</td>\n",
       "    </tr>\n",
       "    <tr>\n",
       "      <th>3</th>\n",
       "      <td>644</td>\n",
       "    </tr>\n",
       "  </tbody>\n",
       "</table>\n",
       "</div>"
      ],
      "text/plain": [
       "   trabalho\n",
       "1      2862\n",
       "2       778\n",
       "0       715\n",
       "3       644"
      ]
     },
     "execution_count": 457,
     "metadata": {},
     "output_type": "execute_result"
    },
    {
     "data": {
      "image/png": "[encoded data removed]",
      "text/plain": [
       "<Figure size 432x288 with 1 Axes>"
      ]
     },
     "metadata": {},
     "output_type": "display_data"
    }
   ],
   "source": [
    "work = pd.get_dummies(data['work_type'])\n",
    "work['stroke'] = data['stroke']\n",
    "work['wt_vitimas'] = 'NaN'\n",
    "\n",
    "for index, row in work.iterrows():\n",
    "    if row['Govt_job'] == 1 and row['stroke']== 1:\n",
    "        work.loc[index,'wt_vitimas'] = 1\n",
    "    elif row['Never_worked'] == 1 and row['stroke']== 1:\n",
    "        work.loc[index,'wt_vitimas'] = 2\n",
    "    elif row['Private'] == 1 and row['stroke']== 1:\n",
    "        work.loc[index,'wt_vitimas'] = 3  \n",
    "    elif row['Self-employed'] == 1 and row['stroke']== 1:\n",
    "        work.loc[index,'wt_vitimas'] = 4\n",
    "    elif row['children'] == 1 and row['stroke']== 1:\n",
    "        work.loc[index,'wt_vitimas'] = 5\n",
    "\n",
    "def trabalho(x):\n",
    "    if x == 'Private':\n",
    "        return 1\n",
    "    elif x == 'Self-employed':\n",
    "        return 2\n",
    "    elif x == 'Govt_job':\n",
    "        return 3\n",
    "    return 0\n",
    "\n",
    "data['trabalho'] = data['work_type'].apply(trabalho)\n",
    "data['trabalho'].value_counts().plot.pie(autopct='%1.1f%%',shadow=False,startangle=90)\n",
    "data['trabalho'].value_counts().to_frame()"
   ]
  },
  {
   "cell_type": "markdown",
   "metadata": {},
   "source": [
    "*Residence Type - Tipo de Residencia\n",
    "---\n",
    "\n",
    "* Urban -> 1\n",
    "* Rural -> 0"
   ]
  },
  {
   "cell_type": "code",
   "execution_count": 458,
   "metadata": {},
   "outputs": [
    {
     "data": {
      "text/html": [
       "<div>\n",
       "<style scoped>\n",
       "    .dataframe tbody tr th:only-of-type {\n",
       "        vertical-align: middle;\n",
       "    }\n",
       "\n",
       "    .dataframe tbody tr th {\n",
       "        vertical-align: top;\n",
       "    }\n",
       "\n",
       "    .dataframe thead th {\n",
       "        text-align: right;\n",
       "    }\n",
       "</style>\n",
       "<table border=\"1\" class=\"dataframe\">\n",
       "  <thead>\n",
       "    <tr style=\"text-align: right;\">\n",
       "      <th></th>\n",
       "      <th>residencia</th>\n",
       "    </tr>\n",
       "  </thead>\n",
       "  <tbody>\n",
       "    <tr>\n",
       "      <th>1</th>\n",
       "      <td>2537</td>\n",
       "    </tr>\n",
       "    <tr>\n",
       "      <th>0</th>\n",
       "      <td>2462</td>\n",
       "    </tr>\n",
       "  </tbody>\n",
       "</table>\n",
       "</div>"
      ],
      "text/plain": [
       "   residencia\n",
       "1        2537\n",
       "0        2462"
      ]
     },
     "execution_count": 458,
     "metadata": {},
     "output_type": "execute_result"
    },
    {
     "data": {
      "image/png": "[encoded data removed]",
      "text/plain": [
       "<Figure size 432x288 with 1 Axes>"
      ]
     },
     "metadata": {},
     "output_type": "display_data"
    }
   ],
   "source": [
    "def residencia(x):\n",
    "    if x == 'Urban':\n",
    "        return 1\n",
    "    return 0\n",
    "\n",
    "\n",
    "data['residencia'] = data['Residence_type'].apply(residencia)\n",
    "data['residencia'].value_counts().plot.pie(autopct='%1.1f%%',shadow=False,startangle=90)\n",
    "data['residencia'].value_counts().to_frame()"
   ]
  },
  {
   "cell_type": "markdown",
   "metadata": {},
   "source": [
    "AVG Glucose Level - Taxa Média de Glicose\n",
    "---\n",
    "\n",
    "Pelas fontes, é possivel ter duas classificações. Como a primeira é muito específica e não nos traz muita informação qualitativa, inicialmente, preferi a primeira classificação.\n",
    "\n",
    "https://www.verywellhealth.com/estimated-average-glucose-eag-3289637 - é possivel dividirmos em 9 grupos\n",
    "\n",
    "https://my.clevelandclinic.org/health/diagnostics/16790-blood-sugar-tests - é possivel dividir em 3 grupos\n",
    "\n",
    "* avg <110 - normal -> 0\n",
    "* avg >=110 <=125 - prediabetico ->1\n",
    "* avg >= 226 - diabetico ->2\n"
   ]
  },
  {
   "cell_type": "code",
   "execution_count": 459,
   "metadata": {},
   "outputs": [
    {
     "data": {
      "text/html": [
       "<div>\n",
       "<style scoped>\n",
       "    .dataframe tbody tr th:only-of-type {\n",
       "        vertical-align: middle;\n",
       "    }\n",
       "\n",
       "    .dataframe tbody tr th {\n",
       "        vertical-align: top;\n",
       "    }\n",
       "\n",
       "    .dataframe thead th {\n",
       "        text-align: right;\n",
       "    }\n",
       "</style>\n",
       "<table border=\"1\" class=\"dataframe\">\n",
       "  <thead>\n",
       "    <tr style=\"text-align: right;\">\n",
       "      <th></th>\n",
       "      <th>glicose</th>\n",
       "    </tr>\n",
       "  </thead>\n",
       "  <tbody>\n",
       "    <tr>\n",
       "      <th>0.0</th>\n",
       "      <td>3585</td>\n",
       "    </tr>\n",
       "    <tr>\n",
       "      <th>2.0</th>\n",
       "      <td>927</td>\n",
       "    </tr>\n",
       "    <tr>\n",
       "      <th>1.0</th>\n",
       "      <td>468</td>\n",
       "    </tr>\n",
       "  </tbody>\n",
       "</table>\n",
       "</div>"
      ],
      "text/plain": [
       "     glicose\n",
       "0.0     3585\n",
       "2.0      927\n",
       "1.0      468"
      ]
     },
     "execution_count": 459,
     "metadata": {},
     "output_type": "execute_result"
    },
    {
     "data": {
      "image/png": "[encoded data removed]",
      "text/plain": [
       "<Figure size 432x288 with 1 Axes>"
      ]
     },
     "metadata": {},
     "output_type": "display_data"
    }
   ],
   "source": [
    "def glucose (x):\n",
    "    if x<110.00: #normal\n",
    "        return 0\n",
    "    elif x>=110.00 and x<=125.00: #prediabetico\n",
    "        return 1\n",
    "    elif x>=126.00: #diabetico\n",
    "        return 2\n",
    "    \n",
    "data['glicose'] = data['avg_glucose_level'].apply(glucose)\n",
    "data['glicose'].value_counts().plot.pie(autopct='%1.1f%%',shadow=False,startangle=90)\n",
    "data['glicose'].value_counts().to_frame()"
   ]
  },
  {
   "cell_type": "markdown",
   "metadata": {},
   "source": [
    "Body Mass Index (BMI) - IMC\n",
    "---\n",
    "\n",
    "Pelas fontes, é possivel ter duas classificações. Como a primeira tem mais grupos pelo falo de incluir a taxa de gravidade, inicialmente, preferi a apresentada na segunda fonte.\n",
    "\n",
    "https://www.calculator.net/bmi-calculator.html - é possivel dividirmos em 8 grupos\n",
    "\n",
    "https://www.cdc.gov/healthyweight/assessing/bmi/adult_bmi/index.html\n",
    "\n",
    "* Below 18.5 - Underweight ->1\n",
    "* 18.5 – 24.9 - Normal or Healthy Weight ->2\n",
    "* 25.0 – 29.9 - Overweight ->3\n",
    "* 30.0 and Above - Obese ->4\n",
    "* NaN ->0\n"
   ]
  },
  {
   "cell_type": "code",
   "execution_count": 460,
   "metadata": {},
   "outputs": [
    {
     "data": {
      "text/html": [
       "<div>\n",
       "<style scoped>\n",
       "    .dataframe tbody tr th:only-of-type {\n",
       "        vertical-align: middle;\n",
       "    }\n",
       "\n",
       "    .dataframe tbody tr th {\n",
       "        vertical-align: top;\n",
       "    }\n",
       "\n",
       "    .dataframe thead th {\n",
       "        text-align: right;\n",
       "    }\n",
       "</style>\n",
       "<table border=\"1\" class=\"dataframe\">\n",
       "  <thead>\n",
       "    <tr style=\"text-align: right;\">\n",
       "      <th></th>\n",
       "      <th>imc</th>\n",
       "    </tr>\n",
       "  </thead>\n",
       "  <tbody>\n",
       "    <tr>\n",
       "      <th>4</th>\n",
       "      <td>1871</td>\n",
       "    </tr>\n",
       "    <tr>\n",
       "      <th>3</th>\n",
       "      <td>1369</td>\n",
       "    </tr>\n",
       "    <tr>\n",
       "      <th>2</th>\n",
       "      <td>1242</td>\n",
       "    </tr>\n",
       "    <tr>\n",
       "      <th>1</th>\n",
       "      <td>339</td>\n",
       "    </tr>\n",
       "    <tr>\n",
       "      <th>0</th>\n",
       "      <td>178</td>\n",
       "    </tr>\n",
       "  </tbody>\n",
       "</table>\n",
       "</div>"
      ],
      "text/plain": [
       "    imc\n",
       "4  1871\n",
       "3  1369\n",
       "2  1242\n",
       "1   339\n",
       "0   178"
      ]
     },
     "execution_count": 460,
     "metadata": {},
     "output_type": "execute_result"
    },
    {
     "data": {
      "image/png": "[encoded data removed]",
      "text/plain": [
       "<Figure size 432x288 with 1 Axes>"
      ]
     },
     "metadata": {},
     "output_type": "display_data"
    }
   ],
   "source": [
    "def imc(x):\n",
    "    if x < 18.5:\n",
    "        return 1\n",
    "    elif x>= 18.5 and x<=24.9:\n",
    "        return 2\n",
    "    elif x>= 25.0 and x<=29.9:\n",
    "        return 3\n",
    "    elif x>=30.0:\n",
    "        return 4\n",
    "    return 0 \n",
    "\n",
    "data['imc'] = data['bmi'].apply(imc)\n",
    "data['imc'].value_counts().plot.pie(autopct='%1.1f%%',shadow=False,startangle=90)\n",
    "data['imc'].value_counts().to_frame()"
   ]
  },
  {
   "cell_type": "markdown",
   "metadata": {},
   "source": [
    "Smoking_Status - Status de Fumante\n",
    "---\n",
    "\n",
    "Criado um DataFrame chamado \"smoke\" a partir do get_dummies de \"data\", criado uma coluna com os 'stroke' de \"data\" e uma nova coluna nomeada 'smoke_vitimas' inicialmente totalmente NaN.\n",
    "\n",
    "Para completar a coluna 'smoke_vitimas' é realizado uma comparação entre cada coluna de \"smoke\" que indica que tipo de fumante a pessoa é e a coluna de \"smoke\" que indica se essa pessoa sofreu ou não um AVC, caso sejam ambos '1' indica que a pessoa de determinado tipo de trabalho sofreu um AVC, sendo categorizado em:\n",
    "\n",
    "* 1 -> formerly smoked - já fumou antigamente\n",
    "* 2 -> never smoked\n",
    "* 3 -> smoke\n",
    "\n",
    "Pelo value_counts() realizado na coluna 'smoke_vitimas' temos que todo tipo de fumante já sofeu um AVC, além daqueles que decidiram não informar sobre essa categoria (NaN) desta forma, não se pode juntar nenhuma dessas categorias qualitativas como foi realizado em 'work_type', além de que é necessária manter uma categoria a parte para os NaN.\n",
    "\n",
    "* Smokes ->1\n",
    "* Formerly Smoked ->2\n",
    "* Never Smoked ->3\n",
    "* NaN ->0"
   ]
  },
  {
   "cell_type": "code",
   "execution_count": 477,
   "metadata": {},
   "outputs": [
    {
     "data": {
      "text/html": [
       "<div>\n",
       "<style scoped>\n",
       "    .dataframe tbody tr th:only-of-type {\n",
       "        vertical-align: middle;\n",
       "    }\n",
       "\n",
       "    .dataframe tbody tr th {\n",
       "        vertical-align: top;\n",
       "    }\n",
       "\n",
       "    .dataframe thead th {\n",
       "        text-align: right;\n",
       "    }\n",
       "</style>\n",
       "<table border=\"1\" class=\"dataframe\">\n",
       "  <thead>\n",
       "    <tr style=\"text-align: right;\">\n",
       "      <th></th>\n",
       "      <th>fumante</th>\n",
       "    </tr>\n",
       "  </thead>\n",
       "  <tbody>\n",
       "    <tr>\n",
       "      <th>3</th>\n",
       "      <td>1858</td>\n",
       "    </tr>\n",
       "    <tr>\n",
       "      <th>0</th>\n",
       "      <td>1525</td>\n",
       "    </tr>\n",
       "    <tr>\n",
       "      <th>2</th>\n",
       "      <td>845</td>\n",
       "    </tr>\n",
       "    <tr>\n",
       "      <th>1</th>\n",
       "      <td>771</td>\n",
       "    </tr>\n",
       "  </tbody>\n",
       "</table>\n",
       "</div>"
      ],
      "text/plain": [
       "   fumante\n",
       "3     1858\n",
       "0     1525\n",
       "2      845\n",
       "1      771"
      ]
     },
     "execution_count": 477,
     "metadata": {},
     "output_type": "execute_result"
    },
    {
     "data": {
      "image/png": "[encoded data removed]",
      "text/plain": [
       "<Figure size 432x288 with 1 Axes>"
      ]
     },
     "metadata": {},
     "output_type": "display_data"
    }
   ],
   "source": [
    "smoke = pd.get_dummies(data['smoking_status'], dummy_na=True)\n",
    "smoke['stroke'] = data['stroke']\n",
    "smoke['smoke_vitimas'] = 'NaN'\n",
    "\n",
    "for index, row in smoke.iterrows():\n",
    "    if row['formerly smoked'] == 1 and row['stroke']== 1:\n",
    "        smoke.loc[index,'smoke_vitimas'] = 1\n",
    "    elif row['never smoked'] == 1 and row['stroke']== 1:\n",
    "        smoke.loc[index,'smoke_vitimas'] = 2\n",
    "    elif row['smokes'] == 1 and row['stroke']== 1:\n",
    "        smoke.loc[index,'smoke_vitimas'] = 3\n",
    "    \n",
    "smoke['smoke_vitimas'].value_counts().to_frame()\n",
    "\n",
    "def fumar(x):\n",
    "    if x =='smokes':\n",
    "        return 1\n",
    "    elif x=='formerly smoked':\n",
    "        return 2\n",
    "    elif x=='never smoked':\n",
    "        return 3\n",
    "    return 0 #NaN\n",
    "\n",
    "data['fumante'] = data['smoking_status'].apply(fumar)\n",
    "data['fumante'].value_counts().plot.pie(autopct='%1.1f%%',shadow=False,startangle=90)\n",
    "data['fumante'].value_counts().to_frame()"
   ]
  },
  {
   "cell_type": "markdown",
   "metadata": {},
   "source": [
    "Drop Colunas\n",
    "-----\n",
    "\n",
    "Deletando todas as colunas qualitativas antigas."
   ]
  },
  {
   "cell_type": "code",
   "execution_count": 486,
   "metadata": {},
   "outputs": [
    {
     "name": "stdout",
     "output_type": "stream",
     "text": [
      "         id  idade  hipertensao  doenca_coracao  avc  genero  casamento  \\\n",
      "0     30669    3.0            0               0    0       0          0   \n",
      "1     30468   58.0            1               0    0       0          1   \n",
      "2     16523    8.0            0               0    0       1          0   \n",
      "3     56543   70.0            0               0    0       1          1   \n",
      "4     46136   14.0            0               0    0       0          0   \n",
      "...     ...    ...          ...             ...  ...     ...        ...   \n",
      "4994  41163   26.0            0               0    0       1          1   \n",
      "4995   7165   33.0            0               0    0       1          1   \n",
      "4996  10745   52.0            0               0    0       1          1   \n",
      "4997  26015   66.0            0               0    1       1          1   \n",
      "4998  58499   31.0            0               0    0       1          0   \n",
      "\n",
      "      trabalho  residencia  glicose  imc  fumante  \n",
      "0            0           0      0.0    1        0  \n",
      "1            1           1      0.0    4        3  \n",
      "2            1           1      1.0    1        0  \n",
      "3            1           0      0.0    4        2  \n",
      "4            0           0      2.0    2        0  \n",
      "...        ...         ...      ...  ...      ...  \n",
      "4994         1           0      0.0    4        1  \n",
      "4995         1           1      0.0    4        2  \n",
      "4996         3           1      1.0    4        2  \n",
      "4997         2           1      0.0    0        0  \n",
      "4998         1           0      0.0    4        3  \n",
      "\n",
      "[4999 rows x 12 columns]\n"
     ]
    }
   ],
   "source": [
    "data.drop(columns=['gender','ever_married','work_type','Residence_type',\n",
    "                   'avg_glucose_level','bmi','smoking_status','wt_vitimas'], axis =1, inplace=True)\n",
    "data.columns = ('id','idade','hipertensao','doenca_coracao','avc','genero','casamento','trabalho',\n",
    "                'residencia','glicose','imc','fumante')\n",
    "print(data)"
   ]
  },
  {
   "cell_type": "markdown",
   "metadata": {},
   "source": [
    "--------------------------------------------------------------\n",
    "Trabalhando apenas com pessoas que sofreram AVC\n",
    "-----------------------------------------------------------\n",
    "--------------------------------------------------------------\n",
    "\n",
    "Selecionando para trabalhar apenas as pessoas que sofreram AVC, temos 82 pacientes."
   ]
  },
  {
   "cell_type": "code",
   "execution_count": 498,
   "metadata": {},
   "outputs": [
    {
     "name": "stdout",
     "output_type": "stream",
     "text": [
      "82\n"
     ]
    }
   ],
   "source": [
    "vitimas = data[data['avc'] == 1]\n",
    "print(vitimas['avc'].count())"
   ]
  },
  {
   "cell_type": "code",
   "execution_count": 489,
   "metadata": {},
   "outputs": [
    {
     "data": {
      "text/plain": [
       "<matplotlib.axes._subplots.AxesSubplot at 0x11a185ad0>"
      ]
     },
     "execution_count": 489,
     "metadata": {},
     "output_type": "execute_result"
    },
    {
     "data": {
      "image/png": "[encoded data removed]",
      "text/plain": [
       "<Figure size 432x288 with 1 Axes>"
      ]
     },
     "metadata": {
      "needs_background": "light"
     },
     "output_type": "display_data"
    }
   ],
   "source": [
    "vitimas['idade'].value_counts().plot.bar()"
   ]
  },
  {
   "cell_type": "markdown",
   "metadata": {},
   "source": [
    "O ainda falta fazer:\n",
    "--------------------\n",
    "\n",
    "* Com relação aos dados gerais:\n",
    "\n",
    "    * Decidir o que fazer com os 0 em smoking_class e bmi_class que representam os NaN\n",
    "    \n",
    "        Dúvidas: \n",
    "        Apesar de uma porcentagem significante de 0 em smoking_class(18.3% - 15 pessoas) e bmi_class(19.5% - 19 pessoas) pode-se dizer que as demais classes estão equilibradas?\n",
    "        O que fazer com esses 0?\n",
    "\n",
    "    * Colunas com * provavelmente são aquelas que poderão ser descartadas por não ter uma relevância para a doença\n",
    "\n",
    "    * Fazer análise\n",
    "    \n",
    "* Com relação aos dados de vitimas:\n",
    "\n",
    "    * Fazer análise"
   ]
  }
 ],
 "metadata": {
  "kernelspec": {
   "display_name": "Python 3",
   "language": "python",
   "name": "python3"
  },
  "language_info": {
   "codemirror_mode": {
    "name": "ipython",
    "version": 3
   },
   "file_extension": ".py",
   "mimetype": "text/x-python",
   "name": "python",
   "nbconvert_exporter": "python",
   "pygments_lexer": "ipython3",
   "version": "3.7.6"
  }
 },
 "nbformat": 4,
 "nbformat_minor": 4
}
